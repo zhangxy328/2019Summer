{
 "cells": [
  {
   "cell_type": "markdown",
   "metadata": {},
   "source": [
    "#  Homework 1\n",
    "## k-NN Regression, Linear Regression, and Multilinear Regression\n",
    "\n",
    "**Summer 2019**<br/>\n",
    "**Instructor**: Pavlos Protopapas\n",
    "**Homework prepared by:** David Sondak and Andrea Porelli\n",
    "\n",
    "---\n",
    "\n",
    "### INSTRUCTIONS\n",
    "\n",
    "- Submisson instructions:\n",
    "  - Submit your Jupyter notebook to the teaching staff in an email.\n",
    "  - The email should have the following subject:  gec-summer-2019 HW 1 \"Your Name\"\n",
    "    - e.g. gec-summer2019 HW1 David Sondak\n",
    "    \n",
    "    **Homeworks with the wrong subject line will recieve a 0.**\n",
    "  - The due date is **Friday, August 2nd at 11:59 PM EDT**.  Please note the time-zone! (EDT stands for Eastern Daylight Time).\n",
    "    **No late days!**\n",
    "\n",
    "- **Restart the kernel and run the whole notebook again before you submit.**\n",
    "\n",
    "#### Suggestion\n",
    "Before starting your homework, you may want to consider making a copy of the problem statement.  For example, you can copy `hw1.ipynb` to `hw1_working.ipynb` and then do all of your work in `hw1_working.ipynb`.  When you're ready to submit, make another copy (maybe call it `hw1_final_Group#.ipynb` where # is replaced with your group number) and make sure it runs.  Following these steps will help minimize mistakes.\n",
    "\n",
    "---"
   ]
  },
  {
   "cell_type": "markdown",
   "metadata": {},
   "source": [
    "##### Import Libraries"
   ]
  },
  {
   "cell_type": "code",
   "execution_count": 2,
   "metadata": {},
   "outputs": [],
   "source": [
    "import numpy as np\n",
    "import pandas as pd\n",
    "import matplotlib\n",
    "import matplotlib.pyplot as plt\n",
    "from sklearn.metrics import r2_score\n",
    "from sklearn.neighbors import KNeighborsRegressor\n",
    "import statsmodels.api as sm\n",
    "from statsmodels.api import OLS\n",
    "%matplotlib inline"
   ]
  },
  {
   "cell_type": "markdown",
   "metadata": {},
   "source": [
    "# Part 1 [26 pts]:  k-NN and Linear Regression\n",
    "## Problem Description:  Predicting Taxi Pickups in NYC\n",
    "\n",
    "In this homework, we will explore k-nearest neighbor, linear and polynomial regression methods for predicting a quantitative variable. Specifically, we will build regression models that can predict the number of taxi pickups in New York city at any given time of the day. These prediction models will be useful, for example, in monitoring traffic in the city.\n",
    "\n",
    "The data set for this problem is given in files `dataset_1_train.txt` and `dataset_1_test.txt` as separate training and test sets. The first column in each file contains the time of a day in minutes, and the second column contains the number of pickups observed at that time. The data set covers taxi pickups recorded during different days in Jan 2015 (randomly sampled across days and time of that day).\n",
    "\n",
    "We will fit regression models that use the time of the day (in minutes) as a predictor and predict the average number of taxi pickups at that time. The models will be fitted to the training set and  evaluated on the test set. The performance of the models will be evaluated using the $R^2$ metric. "
   ]
  },
  {
   "cell_type": "markdown",
   "metadata": {},
   "source": [
    "## 1.1 [3pts]:  Exploratory Data Analysis (EDA)\n",
    "\n",
    "### 1.1.1 [2 pts]\n",
    "Generate a scatter plot of the training data points with the time of the day on the $X$-axis and the number of taxi pickups on the $Y$-axis. \n",
    "\n",
    "#### Deliverables\n",
    "Your code should be contained in a Jupyter notebook cell.  An appropriate level of comments is necessary.  Your code should run and output the required outputs described below.\n",
    "\n",
    "#### Required Outputs\n",
    "* [2 pts] The scatter plot with clear labels on the $x$ and $y$ axes."
   ]
  },
  {
   "cell_type": "markdown",
   "metadata": {},
   "source": [
    "### 1.1.2 [1 pt]:  Discuss your results\n",
    "\n",
    "* Does the pattern of taxi pickups make intuitive sense to you?\n",
    "\n",
    "   *Your answer here.*"
   ]
  },
  {
   "cell_type": "markdown",
   "metadata": {},
   "source": [
    "## 1.2 [12 pts]: k-Nearest Neighbors\n",
    "\n",
    "We begin with k-Nearest Neighbors (k-NN), a non-parametric regression technique. You may use `sklearn`'s built-in functions to run k-NN regression."
   ]
  },
  {
   "cell_type": "markdown",
   "metadata": {},
   "source": [
    "### 1.2.1 [6pts]\n",
    "Fit a k-NN regression model to the training set for different values of $k$ (e.g. you may try out values 1, 2, 10, 25, 50, 100 and 200).\n",
    "\n",
    "#### Deliverables\n",
    "Your code should be contained in a Jupyter notebook cell.  An appropriate level of comments is necessary.  Your code should run and output the required outputs described below.\n",
    "##### Hints:\n",
    "* Normalize the `TimeMin` predictor to a value between $0$ and $1$. This can be done by dividing the time column in the training and test sets by $1440$ (i.e. the number of minutes in a day, which is the maximum value the predictor can take). Although not required for this homework, this normalization step would be particularly helpful while fitting polynomial regression models on this data.\n",
    "* Sort the $x$ values before making your plots.\n",
    "\n",
    "#### Required Outputs\n",
    "* [2 pts] Make a scatter plot of `pickup counts` vs. `Time` for each $k$.  Each figure should have plots of the prediction from the k-NN regression and the actual values on the same figure.  Each figure must have appropriate axis labels, title, and legend.\n",
    "* [1 pt] Report the $R^2$ score for the fitted models on both the training and test sets.\n",
    "* [3 pts] Plot the training and test $R^2$ values as a function of $k$ on the same figure.  Again, the figure must have axis labels and a legend."
   ]
  },
  {
   "cell_type": "markdown",
   "metadata": {},
   "source": [
    "### 1.2.2 [6 pts]:  Discuss your results\n",
    "Discuss your results by answering the following questions.  You should answer the questions directly in this cell of your notebook right after each question.\n",
    "1. [1 pt] How does the value of $k$ affect the fitted model?\n",
    "\n",
    "  *Your answer here.*\n",
    "2. [1 pt] If $n$ is the number of observations in the training set, what can you say about a k-NN regression model that uses $k = n$?\n",
    "  \n",
    "  *Your answer here.*\n",
    "  \n",
    "3. [1 pt] Are some of the calculated $R^2$ values negative? If so, what does this indicate?\n",
    "\n",
    "  *Your answer here.*\n",
    "  \n",
    "4. [1 pt] What does an $R^2$ score of $0$ mean?\n",
    "\n",
    "  *Your answer here.*\n",
    "  \n",
    "5. [1 pt] Do the training and test $R^2$ plots exhibit different trends?  Describe.\n",
    "\n",
    "  *Your answer here.*\n",
    "  \n",
    "6. [1 pt] Explain how the value of $k$ influences the training and test $R^2$ values.\n",
    "*Your answer here.*"
   ]
  },
  {
   "cell_type": "markdown",
   "metadata": {},
   "source": [
    "---"
   ]
  },
  {
   "cell_type": "markdown",
   "metadata": {},
   "source": [
    "## 1.3 [11 pts]: Simple Linear Regression\n",
    "\n",
    "We next consider parametric approaches for regression, starting with simple linear regression, which assumes that the response variable has a linear relationship with the predictor.\n",
    "\n",
    "Use the `statsmodels` module for linear regression. This module has built-in functions to summarize the results of regression, and to compute confidence intervals for estimated regression parameters. Create a `OLS` class instance, use the `fit` method in the instance for fitting a linear regression model, and use the `predict` method to make predictions. To include an intercept term in the regression model, you will need to append a column of $1$s to the array of predictors using the `sm.add_constant` method. The `fit` method returns a `results` instance. Use the  `results.summary` method to obtain a summary of the regression fit, the `results.params` attribute to get the estimated regression parameters, and the `conf_int` method to compute confidence intervals for the estimated parameters. You may use the `r2_score` function to compute $R^2$."
   ]
  },
  {
   "cell_type": "markdown",
   "metadata": {},
   "source": [
    "### 1.3.1 [6 pts]:  Fit a linear regression model to the training set.\n",
    "\n",
    "#### Deliverables\n",
    "Your code should be contained in a Jupyter notebook cell.  An appropriate level of comments is necessary.  Your code should run and output the required outputs described below.\n",
    "\n",
    "#### Required Outputs\n",
    "* [1 pt] Report the $R^{2}$ score from the training and test sets.  You may notice something peculiar about how they compare.\n",
    "* [1 pt] Report the slope and intercept values for the fitted linear model.\n",
    "* [1 pt] Calculate and report the $95\\%$ confidence interval for the slope and intercept.\n",
    "* [3 pts] Plot the residuals $e = y - \\hat{y}$ of the model on the training set as a function of the predictor variable $x$ (i.e. time of day). Draw a horizontal line denoting the zero residual value on the Y-axis."
   ]
  },
  {
   "cell_type": "markdown",
   "metadata": {},
   "source": [
    "### 1.3.2 [5 pts]: Discuss your results by answering the following questions.  \n",
    "You should answer the questions directly in this cell of your notebook right after each question.\n",
    "1. [1 pt] How does the test $R^2$ score compare with the best test $R^2$ value obtained with k-NN regression?\n",
    "\n",
    "  *Your answer here.*\n",
    "  \n",
    "2. [1 pt] What does the sign of the slope of the fitted linear model convey about the data?\n",
    "  \n",
    "  *Your answer here.*\n",
    "  \n",
    "3. [1 pt] Based on the $95\\%$ confidence interval, do you consider the estimates of the model parameters to be reliable?\n",
    "\n",
    "  *Your answer here.*\n",
    "  \n",
    "4. [1 pt] Do you expect a $99\\%$ confidence interval for the slope and intercept to be tighter or looser than the $95\\%$ confidence intervals? Briefly explain your answer.\n",
    "\n",
    "  *Your answer here.*\n",
    "  \n",
    "5. [1 pt] Based on the residual plot that you made, discuss whether or not the assumption of linearity is valid for this data.\n",
    "\n",
    "  *Your answer here.*"
   ]
  },
  {
   "cell_type": "markdown",
   "metadata": {},
   "source": [
    "---"
   ]
  },
  {
   "cell_type": "markdown",
   "metadata": {},
   "source": [
    "# Part 2 [21 pts]: Multilinear Regression\n",
    "## Problem Description:Forecasting Bike Sharing Usage\n",
    "\n",
    "In this part of the homework, we will focus on multiple linear regression.  The specific task is to build a regression model for a bike share system that can predict the total number of bike rentals in a given day based on attributes about the day. Such a demand forecasting model would be useful in planning the number of bikes that need to be available in the system on any given day and also in monitoring traffic in the city. The data for this problem was collected from the Capital Bikeshare program in Washington D.C. over two years.   \n",
    "\n",
    "The data set is provided in the files `Bikeshare_train.csv` and `Bikeshare_test.csv`, as separate training and test sets. Each row in these files contains $10$ attributes describing a day and its weather:\n",
    "- season (1 = spring, 2 = summer, 3 = fall, 4 = winter)\n",
    "- month (1 through 12, with 1 denoting Jan)\n",
    "- holiday (1 = the day is a holiday, 0 = otherwise)\n",
    "- day_of_week (0 through 6, with 0 denoting Sunday)\n",
    "- workingday (1 = the day is neither a holiday or weekend, 0 = otherwise)\n",
    "- weather \n",
    "    - 1: Clear, Few clouds, Partly cloudy, Partly cloudy\n",
    "    - 2: Mist + Cloudy, Mist + Broken clouds, Mist + Few clouds, Mist\n",
    "    - 3: Light Snow, Light Rain + Thunderstorm + Scattered clouds, Light Rain + Scattered clouds\n",
    "    - 4: Heavy Rain + Ice Pallets + Thunderstorm + Mist, Snow + Fog \n",
    "- temp (temperature in Celsius)\n",
    "- atemp (apparent temperature, or relative outdoor temperature, in Celsius)\n",
    "- humidity (relative humidity)\n",
    "- windspeed (wind speed)\n",
    "\n",
    "and the last column 'count' contains the response variable, i.e. total number of bike rentals for the day.\n",
    "\n",
    "You will fit a linear regression model and analyze its coefficients and residuals.  "
   ]
  },
  {
   "cell_type": "markdown",
   "metadata": {},
   "source": [
    "## 2.1 [2 pts]: Exploratory Data Analysis (EDA)\n",
    "\n",
    "As a first step, identify important characteristics of the data using suitable visualizations when necessary. Some of the questions you may ask include (but are not limited to):\n",
    "\n",
    "- How does the number of bike rentals vary between weekdays and weekends? \n",
    "- How about bike rentals on holidays?\n",
    "- What effect does the season have on the bike rentals on a given day?\n",
    "- Is the number of bike rentals lower than average when there is rain or snow?\n",
    "- How does temperature effect bike rentals?\n",
    "- Do any of the numeric attributes have a clear non-linear dependence with number of the bike rentals?\n",
    "\n",
    "**Note:  You are not required to answer all of the suggested questions.  You should answer *at least* three of them.  You are also encouraged to formulate and answer your own questions.  This part is deliberately open-ended to force you to think about data in the right way.**"
   ]
  },
  {
   "cell_type": "markdown",
   "metadata": {},
   "source": [
    "## 2.2 [8 pts]:  Pre-process the categorical and numerical attributes in the data set\n",
    "This data set contains categorical attributes with two or more categories.\n",
    "\n",
    "### 2.2.1 [5 pts]:  Convert categorical attributes into multiple binary attributes.\n",
    "\n",
    "#### Deliverables\n",
    "Your code should be contained in a Jupyter notebook cell.  An appropriate level of comments is necessary.  Your code should run and output the required outputs described below.\n",
    "\n",
    "#### Required outputs\n",
    "- [2 pts] Convert these categorical attributes into multiple binary attributes using one-hot encoding.\n",
    "  * In place of every categorical attribute $x_j$ that has categories $1, \\ldots, K_j$, introduce $K_j-1$ binary predictors $x_{j1}, \\ldots, x_{j,K_j-1}$ where $x_{jk}$ is $1$ whenever $x_j = k$ and $0$ otherwise.\n",
    "  * *Hint:* You may use the `pd.get_dummies` function to convert a categorical attribute in a data frame to one-hot encoding. This function creates $K$ binary columns for an attribute with $K$ categories. You should delete the last binary column generated by this function.\n",
    "- [2 pts] Scale each continuous predictor to have zero mean and a standard deviation of $1$.\n",
    "  * This can be done by applying the following transform to each continuous-valued predictor $j$:\n",
    "    $$\\hat{x}_{ij} = \\frac{x_{ij} - \\bar{x}_j}{s_j}$$ where $\\bar{x}_j$ and $s_j$ are the sample mean and sample standard deviation (SD) of predictor $j$ in the training set.\n",
    "  * **Note:**  The reason for re-scaling is because the attributes are in different scales.\n",
    "  * **We emphasize that the mean and SD values used for standardization must be estimated using only the training set observations, while the transform is applied to both the training and test sets.**\n",
    "- [1 pt] Provide a table of the summary statistics of the new attributes (the `pd.describe` function will help).\n",
    "\n",
    "**Note:** We use the term \"attribute\" to refer to a categorical column in the data set, and the term \"predictor\" to refer to the individual binary columns resulting out of one-hot encoding."
   ]
  },
  {
   "cell_type": "markdown",
   "metadata": {},
   "source": [
    "### 2.2.2 [3 pts]: Discussion questions\n",
    "1. [1 pt] Why can't the categorical attributes be directly used as predictors?\n",
    "\n",
    "  *Your answer here.*\n",
    "  \n",
    "2. [1 pt] Why is it okay to not have a binary column for the $K_j$-th category?\n",
    "\n",
    "  *Your answer here.*\n",
    "  \n",
    "3. [1 pt] Why shouldn't we include the test set observations in computing the mean and SD?\n",
    "\n",
    "  *Your answer here.*\n",
    "  "
   ]
  },
  {
   "cell_type": "markdown",
   "metadata": {},
   "source": [
    "## 2.3 [11 pts] :  Fit a multiple linear regression model\n",
    "\n",
    "### 2.3.1 [5 pts]:  Fit a multiple linear regression model to the training set.\n",
    "Use the `statsmodels` library.\n",
    "\n",
    "#### Deliverables\n",
    "Your code should be contained in a Jupyter notebook cell.  An appropriate level of comments is necessary.  Your code should run and output the required outputs described below.\n",
    "\n",
    "#### Required Outputs\n",
    "- [1 pt] Report the $R^2$ score on the test set.\n",
    "  - *Note:  Don't worry if the $R^{2}$ score is not very good.*\n",
    "- [2 pts] Find out which of the estimated coefficients are statistically significant at a significance level of $5\\%$ ($p$-value $<0.05$).\n",
    "  - **Hint:  Use a $t-$ test.**\n",
    "- [2 pts] Make a plot of residuals of the fitted model ${e} = y - \\hat{y}$ as a function of the predicted value $\\hat{y}$. Draw a horizontal line denoting the zero residual value on the $Y$-axis."
   ]
  },
  {
   "cell_type": "markdown",
   "metadata": {},
   "source": [
    "### 2.3.2 [6 pts]: Discuss your results by answering the following questions.  \n",
    "You should answer the questions directly in this cell of your notebook right after each question.\n",
    "\n",
    "1. [1 pt] Which among the predictors have a positive correlation with the number of bike rentals?\n",
    "\n",
    "  *Your answer here.*\n",
    "  \n",
    "2. [1 pt] Does the day of week have a relationship with bike rentals?\n",
    "\n",
    "  *Your answer here.*\n",
    "  \n",
    "3. [1 pt] What effect does a holiday have on bike rentals?\n",
    "\n",
    "  *Your answer here.*\n",
    "  \n",
    "4. [1 pt] Is there a difference in the coefficients assigned to `temp` and `atemp`? Give an explanation for your observation.\n",
    "\n",
    "  *Your answer here.*\n",
    "  \n",
    "5. [1 pt] Does the plot of $e$ reveal a non-linear relationship between the predictors and response?\n",
    "\n",
    "  *Your answer here.*\n",
    "  \n",
    "6. [1 pt] What does the plot of $e$ convey about the variance of the error terms?\n",
    "\n",
    "  *Your answer here.*\n",
    "  "
   ]
  }
 ],
 "metadata": {
  "kernelspec": {
   "display_name": "Python 3",
   "language": "python",
   "name": "python3"
  },
  "language_info": {
   "codemirror_mode": {
    "name": "ipython",
    "version": 3
   },
   "file_extension": ".py",
   "mimetype": "text/x-python",
   "name": "python",
   "nbconvert_exporter": "python",
   "pygments_lexer": "ipython3",
   "version": "3.7.3"
  }
 },
 "nbformat": 4,
 "nbformat_minor": 2
}
